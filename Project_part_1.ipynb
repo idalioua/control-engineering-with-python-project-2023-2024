{
  "cells": [
    {
      "cell_type": "markdown",
      "metadata": {
        "tags": [],
        "id": "w8OIokGEjRzD"
      },
      "source": [
        "# Self-Balancing Scooter Control\n",
        "\n",
        "![](images/self-balancing-scooter.png)\n",
        "\n",
        "> A self-balancing scooter [...] is a self-balancing personal transporter consisting of two motorized wheels connected to a pair of articulated pads on which the rider places their feet. The rider controls the speed by leaning forward or backward, and direction of travel by twisting the pads.\n",
        ">\n",
        "> Source: <https://en.wikipedia.org/wiki/Self-balancing_scooter>"
      ]
    },
    {
      "cell_type": "markdown",
      "metadata": {
        "id": "8yi8jEaajRzE"
      },
      "source": [
        "### Python Dependencies"
      ]
    },
    {
      "cell_type": "code",
      "execution_count": null,
      "metadata": {
        "id": "qp1rjfLQjRzE"
      },
      "outputs": [],
      "source": [
        "from numpy import *\n",
        "from numpy.linalg import *\n",
        "\n",
        "from scipy.linalg import *\n",
        "from scipy.integrate import *\n",
        "from scipy.signal import *\n",
        "\n",
        "from matplotlib.pyplot import *\n",
        "import matplotlib.pyplot as plt\n",
        "import numpy as np"
      ]
    },
    {
      "cell_type": "markdown",
      "metadata": {
        "tags": [],
        "id": "x2BhETh8jRzE"
      },
      "source": [
        "Step 1 - Scooter Planar Model\n",
        "================================"
      ]
    },
    {
      "cell_type": "markdown",
      "metadata": {
        "tags": [],
        "id": "AfrqMC_RjRzE"
      },
      "source": [
        "### Introduction"
      ]
    },
    {
      "cell_type": "markdown",
      "metadata": {
        "tags": [],
        "id": "nJkD9byejRzF"
      },
      "source": [
        "We consider a simple model of a self-balancing scooter evolving in the plane. It is mainly made of\n",
        "\n",
        "  - The frame that contains the two articulated pads; from above, each pad essentially look like a triangle (one vertice in the center of the frame, one vertice at each extremity of the wheel).\n",
        "\n",
        "  - Two fixed wheels (their orientation with respect to the frame does not change).\n",
        "    They are parallel and located at opposite ends of the frame.\n",
        "    \n",
        "Let $(0, e_x, e_y)$ be a direct orthonormal frame of the plane. We denote\n",
        "\n",
        "  - $(x, y)$ the coordinates of the wheel axis center in the orthonormal and\n",
        "  - $\\theta$ the angle of the wheels direction with respect to vector $e_x$ ; with $\\theta = 0$ when the front of the scooter faces the right ($e_x$) and $\\theta = \\pi/2$ when it faces upwards ($e_y$).\n",
        "\n",
        "  - $\\phi_l$ and $\\phi_r$ the rotation angles of the left and right wheel respectively ; by convention, when these angles increase, the scooter moves forward."
      ]
    },
    {
      "cell_type": "markdown",
      "metadata": {
        "tags": [],
        "id": "CtA1r0R5jRzF"
      },
      "source": [
        "### Parameter Definition"
      ]
    },
    {
      "cell_type": "markdown",
      "metadata": {
        "tags": [],
        "id": "lml_NaOGjRzF"
      },
      "source": [
        "From now on, we assume that the seat frame length is $\\ell = 50 \\mbox{ cm}$ and the wheel radius is $r = 12.5 \\mbox{ cm}$.\n",
        "\n",
        "🧩 Define the corresponding Python variables `l` and `r` (express every length in meters, and more generally in the sequel, always use the [international standard of units](https://en.wikipedia.org/wiki/SI_derived_unit)) for numerical values."
      ]
    },
    {
      "cell_type": "code",
      "execution_count": null,
      "metadata": {
        "id": "BOEj0TIgjRzF"
      },
      "outputs": [],
      "source": [
        "l=0.5\n",
        "r=0.125"
      ]
    },
    {
      "cell_type": "markdown",
      "metadata": {
        "id": "5q0syaaQjRzF"
      },
      "source": [
        "### Graphical Representation\n",
        "\n",
        "🧩 Implement a function `draw_scooter` with arguments `x`, `y` and `theta` that draws a simple geometric model of the wheelchair (with a red frame and black fixed wheels) in the plane (top view) for arbitrary values of $(x, y)$ and $\\theta$. Use a green circle marker 50 cm in of the frame to indicate which way is forward.\n",
        "\n",
        "🗝️ **Hint.** Use the function `plot` of `matplotlib.pyplot`."
      ]
    },
    {
      "cell_type": "code",
      "execution_count": null,
      "metadata": {
        "id": "xRZFWS3xjRzF",
        "colab": {
          "base_uri": "https://localhost:8080/",
          "height": 430
        },
        "outputId": "6b5487a4-9b31-4c11-8959-edbfca17c06b"
      },
      "outputs": [
        {
          "output_type": "display_data",
          "data": {
            "text/plain": [
              "<Figure size 640x480 with 1 Axes>"
            ],
            "image/png": "[encoded data removed]"
          },
          "metadata": {}
        }
      ],
      "source": [
        "import matplotlib.pyplot as plt\n",
        "import numpy as np\n",
        "import math\n",
        "\n",
        "def draw_triangle(x, y, theta):\n",
        "\n",
        "\n",
        "    alpha=np.arctan(l/(2*r))\n",
        "    beta = np.pi-2*alpha\n",
        "    t=r/np.cos(alpha)\n",
        "\n",
        "    # Calculate the coordinates of the base of the triangle\n",
        "    base1_x = t*np.cos(theta-(beta/2)+np.pi/2)\n",
        "    base1_y = t*np.sin(theta-beta/2+np.pi/2)\n",
        "    base2_x= t*np.cos(theta+beta/2+np.pi/2)\n",
        "    base2_y= t*np.sin(theta+beta/2+np.pi/2)\n",
        "\n",
        "\n",
        "    # Plot the triangle\n",
        "    plt.plot([x,x+base1_x,x+base2_x,x], [y,y+base1_y,y+base2_y,y], 'r-')\n",
        "    plt.plot([x,x-base1_x,x-base2_x,x], [y,y-base1_y,y-base2_y,y], 'r-')\n",
        "\n",
        "    plt.plot([x-base1_x,x-base2_x], [y-base1_y,y-base2_y], 'k-', linewidth=5)\n",
        "    plt.plot([x+base1_x,x+base2_x], [y+base1_y,y+base2_y], 'k-', linewidth=5)\n",
        "    # Plot the apex of the triangle (green circle)\n",
        "    plt.plot(x+0.5*np.cos(theta), y+0.5*np.sin(theta), 'go', markersize=10)\n",
        "\n",
        "    plt.fill([x,x+base1_x,x+base2_x,x], [y,y+base1_y,y+base2_y,y], 'r-')\n",
        "    plt.fill([x,x-base1_x,x-base2_x,x], [y,y-base1_y,y-base2_y,y], 'r-')\n",
        "    # Set the axis limits based on the triangle and rectangle dimensions\n",
        "\n",
        "\n",
        "    # Show the plot\n",
        "    #plt.show()\n",
        "# Example usage\n",
        "draw_triangle(0, 0, 0)  # x=0, y=0, theta=pi/6 (30 degrees)\n"
      ]
    },
    {
      "cell_type": "markdown",
      "metadata": {
        "id": "IlsKodehjRzG"
      },
      "source": [
        "🧩 Represent the wheelchair when $(x, y, \\theta) = (0, 0, 0), (2, 2, \\pi/2), (0, 4, \\pi), (-2, 2, 3\\pi/2)$.\n",
        "\n",
        "🗝️ **Hint.** Use the following `draw_arena` function beforehand."
      ]
    },
    {
      "cell_type": "code",
      "execution_count": null,
      "metadata": {
        "id": "xtCz080ajRzG"
      },
      "outputs": [],
      "source": [
        "def draw_arena(xmin, xmax, ymin, ymax):\n",
        "    wh_ratio = (xmax - xmin) / (ymax - ymin)\n",
        "    figsize = fig_width, fig_height = 16, 16 / wh_ratio\n",
        "    figure(figsize=figsize)\n",
        "    axes = gca()\n",
        "    axes.axis([xmin, xmax, ymin, ymax])\n",
        "    axes.set_aspect(1)\n",
        "    xticks(arange(xmin, xmax+1, 1))\n",
        "    yticks(arange(ymin, ymax+1, 1))\n",
        "    grid(True)\n",
        "    draw_triangle(0, 0, 0)\n",
        "    draw_triangle(2, 2, np.pi/2)\n",
        "    draw_triangle(0, 4, np.pi)\n",
        "    draw_triangle(-2, 2, 3*np.pi/2)"
      ]
    },
    {
      "cell_type": "code",
      "execution_count": null,
      "metadata": {
        "id": "He6nixxnjRzG",
        "outputId": "1267b017-adae-4a81-fae5-fdaaadd720c0",
        "colab": {
          "base_uri": "https://localhost:8080/",
          "height": 805
        }
      },
      "outputs": [
        {
          "output_type": "display_data",
          "data": {
            "text/plain": [
              "<Figure size 1600x960 with 1 Axes>"
            ],
            "image/png": "[encoded data removed]"
          },
          "metadata": {}
        }
      ],
      "source": [
        "draw_arena(-5, 5, -1, 5)"
      ]
    },
    {
      "cell_type": "markdown",
      "metadata": {
        "id": "tFG0lAFtjRzG"
      },
      "source": [
        "### Kinematic Modeling\n",
        "\n",
        "We assume that we can control the wheels angular velocities $\\omega_l = \\dot{\\phi}_l$ and $\\omega_r = \\dot{\\phi}_r$ (this is a *kinematic* model of the wheelchair).\n",
        "We also assume that the wheelchair fixed wheels roll without slipping.\n",
        "\n",
        "🧩 Establish the differential equations that relate $\\dot{x}$,\n",
        "$\\dot{y}$ and $\\dot{\\theta}$ with $\\omega_l$ and $\\omega_r$."
      ]
    },
    {
      "cell_type": "markdown",
      "metadata": {
        "id": "LV6RVO0KjRzH"
      },
      "source": [
        "**TODO**"
      ]
    },
    {
      "cell_type": "markdown",
      "metadata": {
        "id": "aR34akwLjRzH"
      },
      "source": [
        "### Analysis\n",
        "\n",
        "🧩 Show that if $\\omega_l$ and $\\omega_r$ are continuously differentiable functions of $(x, y, \\theta)$ (which includes the case of constant inputs), this system is well-posed."
      ]
    },
    {
      "cell_type": "markdown",
      "metadata": {
        "id": "QeH_b-69jRzH"
      },
      "source": [
        "**TODO**"
      ]
    },
    {
      "cell_type": "markdown",
      "metadata": {
        "id": "BFpyyKQ6jRzH"
      },
      "source": [
        "🧩 Show that if $\\omega_l$ and $\\omega_r$ are constants, the maximal solution associated to any initial state is global. Is is still true of $\\omega_l$ and $\\omega_r$ are arbitrary continuously differentiable functions of $(x, y, \\theta)$ ?"
      ]
    },
    {
      "cell_type": "markdown",
      "metadata": {
        "id": "98We8kTzjRzH"
      },
      "source": [
        "**TODO**"
      ]
    },
    {
      "cell_type": "markdown",
      "metadata": {
        "id": "pc_aWQuSjRzH"
      },
      "source": [
        "### Vector Field\n",
        "\n",
        "In the sequel, `omega` is a function that computes the input vector $\\omega := (\\omega_l, \\omega_r)$ given the time $t$ and $(x, y, \\theta)$ (thus, it may depend on the time and/or on the system state if needed). For example:"
      ]
    },
    {
      "cell_type": "code",
      "execution_count": null,
      "metadata": {
        "id": "DKXsGnbqjRzH"
      },
      "outputs": [],
      "source": [
        "def omega(t, xytheta):\n",
        "    omega_l = (1 - l/4) * pi / r\n",
        "    omega_r = (1 + l/4) * pi / r\n",
        "    return array([omega_l, omega_r])"
      ]
    },
    {
      "cell_type": "markdown",
      "metadata": {
        "id": "RU6vk9DDjRzH"
      },
      "source": [
        "🧩 Implement a function `fun(t, xytheta)` that computes $(\\dot{x}, \\dot{y}, \\dot{\\theta})$ given the time $t$ and $(x,y,\\theta)$ (and implicitly the inputs $\\omega$ computed by the function `omega`)."
      ]
    },
    {
      "cell_type": "code",
      "execution_count": null,
      "metadata": {
        "id": "nb9FM2h2jRzH"
      },
      "outputs": [],
      "source": [
        "pass"
      ]
    },
    {
      "cell_type": "markdown",
      "metadata": {
        "id": "pHlKWDXIjRzH"
      },
      "source": [
        "### Simulation Setup\n",
        "\n",
        "🧩 Simulate the wheelchair dynamics for 4 seconds when $(x_0, y_0, \\theta_0)(t=0) = (0.0, 0.0, 0.0)$,\n",
        "and the wheels velocities are the constants $\\omega_l = (1 - \\ell/4)  \\pi / r \\mbox{ rad/s}$ and $\\omega_r = (1 + \\ell/4)  \\pi / r \\mbox{ rad/s}$.\n",
        "(Compute the dense outputs.)\n",
        "   "
      ]
    },
    {
      "cell_type": "code",
      "execution_count": null,
      "metadata": {
        "id": "2j3ZKIbSjRzI"
      },
      "outputs": [],
      "source": [
        "pass"
      ]
    },
    {
      "cell_type": "markdown",
      "metadata": {
        "id": "hsfGmWEgjRzI"
      },
      "source": [
        "🧩 Use the simulation results to draw the graphs of $x(t)$, $y(t)$ and $\\theta(t)$."
      ]
    },
    {
      "cell_type": "code",
      "execution_count": null,
      "metadata": {
        "id": "t24kaLPljRzI"
      },
      "outputs": [],
      "source": [
        "pass"
      ]
    },
    {
      "cell_type": "markdown",
      "metadata": {
        "id": "2k6NLeW_jRzI"
      },
      "source": [
        "🧩 Use the simulation results to display the robot location every 0.5 second."
      ]
    },
    {
      "cell_type": "code",
      "execution_count": null,
      "metadata": {
        "id": "qe8XHn50jRzI"
      },
      "outputs": [],
      "source": [
        "pass"
      ]
    },
    {
      "cell_type": "markdown",
      "metadata": {
        "id": "l1oT6mB7jRzI"
      },
      "source": [
        "🧩 What should be the analytical expression of $x(t)$, $y(t)$ and $\\theta(t)$?"
      ]
    },
    {
      "cell_type": "markdown",
      "metadata": {
        "id": "v6Bw7xfjjRzI"
      },
      "source": [
        "**TODO**"
      ]
    },
    {
      "cell_type": "markdown",
      "metadata": {
        "id": "fWnJCI9ljRzI"
      },
      "source": [
        "🧩 Do you experimental results match the theoretical results ? Draw the curves of the simulation error at time $t$ for $x$, $y$ and $\\theta$."
      ]
    },
    {
      "cell_type": "code",
      "execution_count": null,
      "metadata": {
        "id": "RLAt8Xo7jRzI"
      },
      "outputs": [],
      "source": [
        "pass"
      ]
    },
    {
      "cell_type": "markdown",
      "metadata": {
        "id": "vwaFz4ALjRzI"
      },
      "source": [
        "🧩 If needed, adjust the simulation parameters the simulated position error is less than $1\\, \\mathrm{ mm}$."
      ]
    },
    {
      "cell_type": "code",
      "execution_count": null,
      "metadata": {
        "id": "UZkSyBswjRzJ"
      },
      "outputs": [],
      "source": [
        "pass"
      ]
    }
  ],
  "metadata": {
    "kernelspec": {
      "display_name": "Python 3 (ipykernel)",
      "language": "python",
      "name": "python3"
    },
    "language_info": {
      "codemirror_mode": {
        "name": "ipython",
        "version": 3
      },
      "file_extension": ".py",
      "mimetype": "text/x-python",
      "name": "python",
      "nbconvert_exporter": "python",
      "pygments_lexer": "ipython3",
      "version": "3.12.0"
    },
    "colab": {
      "provenance": []
    }
  },
  "nbformat": 4,
  "nbformat_minor": 0
}